{
 "cells": [
  {
   "cell_type": "code",
   "execution_count": 1,
   "id": "dbd79395",
   "metadata": {},
   "outputs": [
    {
     "name": "stdout",
     "output_type": "stream",
     "text": [
      "course_name    Machine Learning\n",
      "duration                      3\n",
      "Name: 1, dtype: object\n"
     ]
    }
   ],
   "source": [
    "##Q 1\n",
    "import pandas as pd\n",
    "course_name = [\"Data Science\", \"Machine Learning\", \"Big Data\", \"Data Engineer\"]\n",
    "duration = [2,3,6,4]\n",
    "df = pd.DataFrame(data = {\"course_name\" : course_name, \"duration\" : duration})\n",
    "df.head()\n",
    "\n",
    "second_column = df.iloc[1]\n",
    "print(second_column)"
   ]
  },
  {
   "cell_type": "code",
   "execution_count": 2,
   "id": "e649e37b",
   "metadata": {},
   "outputs": [
    {
     "data": {
      "text/plain": [
       "\"The loc function in pandas.DataFrame is label-based, meaning it is used to access a group of rows and columns by their labels or by using a boolean array. When slicing with loc, both the start and stop labels are inclusive, meaning the range includes both endpoints. This function is particularly useful when you know the specific labels of the indices (rows or columns) you want to access. For example, df.loc['row_label'] would access the row with the label 'row_label'.\\n\\nOn the other hand, the iloc function is integer position-based, which means it is used to access rows and columns by their integer positions, similar to how indexing works in Python lists. The slicing with iloc follows the standard Python slicing rules, where the start index is inclusive, but the stop index is exclusive. This function is useful when you need to access rows and columns by their numerical positions. For example, df.iloc[0] would access the first row of the DataFrame.\""
      ]
     },
     "execution_count": 2,
     "metadata": {},
     "output_type": "execute_result"
    }
   ],
   "source": [
    "##Q 2\n",
    "'''The loc function in pandas.DataFrame is label-based, meaning it is used to access a group of rows and columns by their labels or by using a boolean array. When slicing with loc, both the start and stop labels are inclusive, meaning the range includes both endpoints. This function is particularly useful when you know the specific labels of the indices (rows or columns) you want to access. For example, df.loc['row_label'] would access the row with the label 'row_label'.\n",
    "\n",
    "On the other hand, the iloc function is integer position-based, which means it is used to access rows and columns by their integer positions, similar to how indexing works in Python lists. The slicing with iloc follows the standard Python slicing rules, where the start index is inclusive, but the stop index is exclusive. This function is useful when you need to access rows and columns by their numerical positions. For example, df.iloc[0] would access the first row of the DataFrame.'''"
   ]
  },
  {
   "cell_type": "code",
   "execution_count": 3,
   "id": "d9a035dc",
   "metadata": {},
   "outputs": [
    {
     "data": {
      "text/plain": [
       "<bound method NDFrame.head of         course_name  duration\n",
       "3     Data Engineer         4\n",
       "0      Data Science         2\n",
       "1  Machine Learning         3\n",
       "2          Big Data         6>"
      ]
     },
     "execution_count": 3,
     "metadata": {},
     "output_type": "execute_result"
    }
   ],
   "source": [
    "##Q 3\n",
    "newdf = df.reindex([3,0,1,2])\n",
    "newdf.head"
   ]
  },
  {
   "cell_type": "code",
   "execution_count": 5,
   "id": "024a05a8",
   "metadata": {},
   "outputs": [
    {
     "name": "stdout",
     "output_type": "stream",
     "text": [
      "course_name    Machine Learning\n",
      "duration                      3\n",
      "Name: 1, dtype: object\n",
      "course_name    Big Data\n",
      "duration              6\n",
      "Name: 2, dtype: object\n"
     ]
    },
    {
     "data": {
      "text/plain": [
       "'iloc check the absolute index whereas loc check the similarity between indexes\\n'"
      ]
     },
     "execution_count": 5,
     "metadata": {},
     "output_type": "execute_result"
    }
   ],
   "source": [
    "print(newdf.iloc[2])\n",
    "print(newdf.loc[2])\n",
    "'''iloc check the absolute index whereas loc check the similarity between indexes\n",
    "'''"
   ]
  },
  {
   "cell_type": "code",
   "execution_count": 7,
   "id": "3af94be3",
   "metadata": {},
   "outputs": [
    {
     "data": {
      "text/html": [
       "<div>\n",
       "<style scoped>\n",
       "    .dataframe tbody tr th:only-of-type {\n",
       "        vertical-align: middle;\n",
       "    }\n",
       "\n",
       "    .dataframe tbody tr th {\n",
       "        vertical-align: top;\n",
       "    }\n",
       "\n",
       "    .dataframe thead th {\n",
       "        text-align: right;\n",
       "    }\n",
       "</style>\n",
       "<table border=\"1\" class=\"dataframe\">\n",
       "  <thead>\n",
       "    <tr style=\"text-align: right;\">\n",
       "      <th></th>\n",
       "      <th>column_1</th>\n",
       "      <th>column_2</th>\n",
       "      <th>column_3</th>\n",
       "      <th>column_4</th>\n",
       "      <th>column_5</th>\n",
       "      <th>column_6</th>\n",
       "    </tr>\n",
       "  </thead>\n",
       "  <tbody>\n",
       "    <tr>\n",
       "      <th>1</th>\n",
       "      <td>0.572674</td>\n",
       "      <td>0.900509</td>\n",
       "      <td>0.620235</td>\n",
       "      <td>0.159287</td>\n",
       "      <td>0.122172</td>\n",
       "      <td>0.329262</td>\n",
       "    </tr>\n",
       "    <tr>\n",
       "      <th>2</th>\n",
       "      <td>0.331848</td>\n",
       "      <td>0.467275</td>\n",
       "      <td>0.580317</td>\n",
       "      <td>0.318829</td>\n",
       "      <td>0.797876</td>\n",
       "      <td>0.102221</td>\n",
       "    </tr>\n",
       "    <tr>\n",
       "      <th>3</th>\n",
       "      <td>0.826144</td>\n",
       "      <td>0.942696</td>\n",
       "      <td>0.747272</td>\n",
       "      <td>0.146483</td>\n",
       "      <td>0.879126</td>\n",
       "      <td>0.616182</td>\n",
       "    </tr>\n",
       "    <tr>\n",
       "      <th>4</th>\n",
       "      <td>0.861845</td>\n",
       "      <td>0.342578</td>\n",
       "      <td>0.968942</td>\n",
       "      <td>0.046473</td>\n",
       "      <td>0.255221</td>\n",
       "      <td>0.284145</td>\n",
       "    </tr>\n",
       "    <tr>\n",
       "      <th>5</th>\n",
       "      <td>0.349668</td>\n",
       "      <td>0.972756</td>\n",
       "      <td>0.005622</td>\n",
       "      <td>0.219200</td>\n",
       "      <td>0.295761</td>\n",
       "      <td>0.132715</td>\n",
       "    </tr>\n",
       "  </tbody>\n",
       "</table>\n",
       "</div>"
      ],
      "text/plain": [
       "   column_1  column_2  column_3  column_4  column_5  column_6\n",
       "1  0.572674  0.900509  0.620235  0.159287  0.122172  0.329262\n",
       "2  0.331848  0.467275  0.580317  0.318829  0.797876  0.102221\n",
       "3  0.826144  0.942696  0.747272  0.146483  0.879126  0.616182\n",
       "4  0.861845  0.342578  0.968942  0.046473  0.255221  0.284145\n",
       "5  0.349668  0.972756  0.005622  0.219200  0.295761  0.132715"
      ]
     },
     "execution_count": 7,
     "metadata": {},
     "output_type": "execute_result"
    }
   ],
   "source": [
    "import pandas as pd\n",
    "import numpy as np\n",
    "columns = ['column_1', 'column_2', 'column_3', 'column_4', 'column_5', 'column_6']\n",
    "indices = [1,2,3,4,5,6]\n",
    "#Creating a dataframe:\n",
    "df1 = pd.DataFrame(np.random.rand(6,6), columns = columns, index = indices)\n",
    "df1.head()"
   ]
  },
  {
   "cell_type": "code",
   "execution_count": 8,
   "id": "530596f8",
   "metadata": {},
   "outputs": [
    {
     "name": "stdout",
     "output_type": "stream",
     "text": [
      "Mean of each column:\n",
      " column_1    0.638345\n",
      "column_2    0.622391\n",
      "column_3    0.623010\n",
      "column_4    0.298206\n",
      "column_5    0.531328\n",
      "column_6    0.387152\n",
      "dtype: float64\n",
      "\n",
      "Standard deviation of 'column_2': 0.3658154113654405\n"
     ]
    }
   ],
   "source": [
    "##Q 4\n",
    "#i\n",
    "mean_of_columns = df1.mean(axis=0)\n",
    "print(\"Mean of each column:\\n\", mean_of_columns)\n",
    "#ii\n",
    "std_column_2 = df1['column_2'].std()\n",
    "print(\"\\nStandard deviation of 'column_2':\", std_column_2)"
   ]
  },
  {
   "cell_type": "code",
   "execution_count": 9,
   "id": "f219d49a",
   "metadata": {},
   "outputs": [
    {
     "name": "stdout",
     "output_type": "stream",
     "text": [
      "0.3318479401205362\n"
     ]
    }
   ],
   "source": [
    "##Q 5\n",
    "mean=df1.loc[2][\"column_1\"]\n",
    "print(mean)"
   ]
  },
  {
   "cell_type": "code",
   "execution_count": 10,
   "id": "a97b40b5",
   "metadata": {},
   "outputs": [
    {
     "data": {
      "text/plain": [
       "'Exponentially Weighted Windows:\\n\\nDefinition: Apply a function to exponentially weighted windows, giving more weight to more recent observations.\\nCommon Methods:\\newm(): Creates an exponentially weighted window object.\\nmean(), sum(), std(), min(), max(), etc., can be applied to the exponentially weighted window object.\\n'"
      ]
     },
     "execution_count": 10,
     "metadata": {},
     "output_type": "execute_result"
    }
   ],
   "source": [
    "##Q6\n",
    "\n",
    "'''The window functions in pandas are used to perform operations over a specified window or subset of data, often involving calculations like rolling averages, cumulative sums, or expanding windows. These functions are particularly useful for time series data or any sequential data where you need to analyze trends or perform computations over a moving window.'''\n",
    "'''Types of Window Functions in pandas\n",
    "'''\n",
    "\n",
    "'''Rolling Windows:\n",
    "\n",
    "Definition: Apply a function over a sliding window of a specified size.\n",
    "Common Methods:\n",
    "rolling(): Creates a rolling window object.\n",
    "mean(), sum(), std(), min(), max(), etc., can be applied to the rolling window object'''\n",
    "\n",
    "\n",
    "'''Expanding Windows:\n",
    "\n",
    "Definition: Apply a function over an expanding window, starting from the beginning of the data up to the current point.\n",
    "Common Methods:\n",
    "expanding(): Creates an expanding window object.\n",
    "mean(), sum(), std(), min(), max(), etc., can be applied to the expanding window object.\n",
    "'''\n",
    "\n",
    "'''Exponentially Weighted Windows:\n",
    "\n",
    "Definition: Apply a function to exponentially weighted windows, giving more weight to more recent observations.\n",
    "Common Methods:\n",
    "ewm(): Creates an exponentially weighted window object.\n",
    "mean(), sum(), std(), min(), max(), etc., can be applied to the exponentially weighted window object.\n",
    "'''\n",
    "\n"
   ]
  },
  {
   "cell_type": "code",
   "execution_count": 11,
   "id": "858b86f9",
   "metadata": {},
   "outputs": [
    {
     "name": "stdout",
     "output_type": "stream",
     "text": [
      "Current month: 6, Current year: 2024\n"
     ]
    }
   ],
   "source": [
    "##Q7\n",
    "import pandas as pd\n",
    "\n",
    "current_timestamp = pd.Timestamp.now()\n",
    "\n",
    "current_month = current_timestamp.month\n",
    "current_year = current_timestamp.year\n",
    "\n",
    "print(f\"Current month: {current_month}, Current year: {current_year}\")\n"
   ]
  },
  {
   "cell_type": "code",
   "execution_count": 13,
   "id": "4431824b",
   "metadata": {},
   "outputs": [
    {
     "name": "stdout",
     "output_type": "stream",
     "text": [
      "enter day1 in YYYY-MM-DD: 2024-02-07\n",
      "enter day1 in YYYY-MM-DD: 2024-07-06\n",
      "days are: 150, seconds are: 0, hours are: 0 and minutes are: 0\n"
     ]
    }
   ],
   "source": [
    "##Q8\n",
    "\n",
    "import pandas as pd\n",
    "\n",
    "def calculation(day1,day2):\n",
    "    date_1 = pd.Timestamp(day1)\n",
    "    date_2 = pd.Timestamp(day2)\n",
    "    \n",
    "    difference = date_2-date_1\n",
    "    days = difference.days\n",
    "    seconds = difference.seconds\n",
    "    hours = seconds//3600\n",
    "    minutes = (seconds%3600)//60\n",
    "    return days,seconds,hours,minutes\n",
    "    \n",
    "\n",
    "\n",
    "day_1 = input(\"enter day1 in YYYY-MM-DD: \")\n",
    "day_2 = input(\"enter day1 in YYYY-MM-DD: \")\n",
    "\n",
    "days,seconds,hours,minutes = calculation(day_1,day_2)\n",
    "print(f\"days are: {days}, seconds are: {seconds}, hours are: {hours} and minutes are: {minutes}\")"
   ]
  },
  {
   "cell_type": "code",
   "execution_count": 14,
   "id": "32cc1479",
   "metadata": {},
   "outputs": [
    {
     "name": "stdout",
     "output_type": "stream",
     "text": [
      "enter file path: C:\\Users\\sumit\\jupiter\\pw assignment\\testDataset.csv\n",
      "column name: stream\n",
      "enter the category order (comma-saperated): ml,iiot,ds,ar\n"
     ]
    },
    {
     "data": {
      "text/html": [
       "<div>\n",
       "<style scoped>\n",
       "    .dataframe tbody tr th:only-of-type {\n",
       "        vertical-align: middle;\n",
       "    }\n",
       "\n",
       "    .dataframe tbody tr th {\n",
       "        vertical-align: top;\n",
       "    }\n",
       "\n",
       "    .dataframe thead th {\n",
       "        text-align: right;\n",
       "    }\n",
       "</style>\n",
       "<table border=\"1\" class=\"dataframe\">\n",
       "  <thead>\n",
       "    <tr style=\"text-align: right;\">\n",
       "      <th></th>\n",
       "      <th>name</th>\n",
       "      <th>gender</th>\n",
       "      <th>stream</th>\n",
       "      <th>age</th>\n",
       "    </tr>\n",
       "  </thead>\n",
       "  <tbody>\n",
       "    <tr>\n",
       "      <th>0</th>\n",
       "      <td>sumit</td>\n",
       "      <td>male</td>\n",
       "      <td>ml</td>\n",
       "      <td>24</td>\n",
       "    </tr>\n",
       "    <tr>\n",
       "      <th>21</th>\n",
       "      <td>sumit</td>\n",
       "      <td>male</td>\n",
       "      <td>ml</td>\n",
       "      <td>41</td>\n",
       "    </tr>\n",
       "    <tr>\n",
       "      <th>59</th>\n",
       "      <td>praveen</td>\n",
       "      <td>male</td>\n",
       "      <td>ml</td>\n",
       "      <td>26</td>\n",
       "    </tr>\n",
       "    <tr>\n",
       "      <th>51</th>\n",
       "      <td>prince</td>\n",
       "      <td>male</td>\n",
       "      <td>ml</td>\n",
       "      <td>35</td>\n",
       "    </tr>\n",
       "    <tr>\n",
       "      <th>39</th>\n",
       "      <td>prince</td>\n",
       "      <td>male</td>\n",
       "      <td>ml</td>\n",
       "      <td>25</td>\n",
       "    </tr>\n",
       "    <tr>\n",
       "      <th>...</th>\n",
       "      <td>...</td>\n",
       "      <td>...</td>\n",
       "      <td>...</td>\n",
       "      <td>...</td>\n",
       "    </tr>\n",
       "    <tr>\n",
       "      <th>69</th>\n",
       "      <td>aditya</td>\n",
       "      <td>male</td>\n",
       "      <td>ar</td>\n",
       "      <td>30</td>\n",
       "    </tr>\n",
       "    <tr>\n",
       "      <th>61</th>\n",
       "      <td>sachin</td>\n",
       "      <td>male</td>\n",
       "      <td>ar</td>\n",
       "      <td>32</td>\n",
       "    </tr>\n",
       "    <tr>\n",
       "      <th>66</th>\n",
       "      <td>prince</td>\n",
       "      <td>male</td>\n",
       "      <td>ar</td>\n",
       "      <td>30</td>\n",
       "    </tr>\n",
       "    <tr>\n",
       "      <th>84</th>\n",
       "      <td>sumit</td>\n",
       "      <td>male</td>\n",
       "      <td>ar</td>\n",
       "      <td>39</td>\n",
       "    </tr>\n",
       "    <tr>\n",
       "      <th>68</th>\n",
       "      <td>aditya</td>\n",
       "      <td>male</td>\n",
       "      <td>ar</td>\n",
       "      <td>28</td>\n",
       "    </tr>\n",
       "  </tbody>\n",
       "</table>\n",
       "<p>100 rows × 4 columns</p>\n",
       "</div>"
      ],
      "text/plain": [
       "       name gender stream  age\n",
       "0     sumit   male     ml   24\n",
       "21    sumit   male     ml   41\n",
       "59  praveen   male     ml   26\n",
       "51   prince   male     ml   35\n",
       "39   prince   male     ml   25\n",
       "..      ...    ...    ...  ...\n",
       "69   aditya   male     ar   30\n",
       "61   sachin   male     ar   32\n",
       "66   prince   male     ar   30\n",
       "84    sumit   male     ar   39\n",
       "68   aditya   male     ar   28\n",
       "\n",
       "[100 rows x 4 columns]"
      ]
     },
     "metadata": {},
     "output_type": "display_data"
    }
   ],
   "source": [
    "##Q9\n",
    "import pandas as pd\n",
    "import random\n",
    "random.seed(6)\n",
    "name = [\"sachin\",\"varnit\",\"aditya\",\"prince\",\"sumit\",\"praveen\"]\n",
    "gender = [\"male\"]\n",
    "stream = [\"ds\",\"ml\",\"iiot\",\"ar\"]\n",
    "\n",
    "data = {\n",
    "    'name' : random.choices(name,k=100),\n",
    "    'gender' : random.choices(gender,k= 100),\n",
    "    'stream' : random.choices(stream,k=100),\n",
    "    'age': [random.randint(20,45) for _ in range(100) ]\n",
    "}\n",
    "\n",
    "df = pd.DataFrame(data)\n",
    "\n",
    "\n",
    "df['gender'] = df['gender'].astype(\"category\")\n",
    "df['stream'] = df['stream'].astype(\"category\")\n",
    "\n",
    "df.to_csv(\"testDataset.csv\",index=False)\n",
    "df.head(10)\n",
    "df.dtypes\n",
    "\n",
    "\n",
    "filePath = input(\"enter file path: \")\n",
    "columnName = input(\"column name: \")\n",
    "categoryOrder = input(\"enter the category order (comma-saperated): \").split(\",\")\n",
    "\n",
    "df_1 = pd.read_csv(filePath)\n",
    "df_1[columnName] = pd.Categorical(df_1[columnName], categories=categoryOrder,ordered=True)\n",
    "\n",
    "df_sorted = df_1.sort_values(by=columnName)\n",
    "display(df_sorted)"
   ]
  },
  {
   "cell_type": "code",
   "execution_count": 23,
   "id": "1a1ff933",
   "metadata": {},
   "outputs": [],
   "source": [
    "##Q10\n",
    "import pandas as pd\n",
    "import random\n",
    "from datetime import datetime,timedelta\n",
    "import matplotlib.pyplot as plt\n",
    "\n",
    "products = ['A','B','C','D','E','F','G']\n",
    "startDate = datetime(2024,4,6)\n",
    "endDate = datetime(2024,8,9)\n",
    "\n",
    "data = []\n",
    "currentDate = startDate\n",
    "while(currentDate<=endDate):\n",
    "    for product in products:\n",
    "        sales = random.randint(100,1000)\n",
    "        \n",
    "        data.append({\n",
    "            'date': currentDate,\n",
    "            'Product': product,\n",
    "            'sales': sales\n",
    "            \n",
    "        })\n",
    "    currentDate += timedelta(days=1)\n",
    "    \n",
    "df_2 = pd.DataFrame(data)\n",
    "df_2.head(10)\n",
    "df_2.to_csv(\"salesData.csv\",index=False)\n",
    "\n"
   ]
  },
  {
   "cell_type": "code",
   "execution_count": 36,
   "id": "48bf77e5",
   "metadata": {},
   "outputs": [
    {
     "name": "stdout",
     "output_type": "stream",
     "text": [
      "enter file path: C:\\Users\\sumit\\jupiter\\pw assignment\\salesData.csv\n"
     ]
    },
    {
     "data": {
      "text/plain": [
       "<Figure size 1000x800 with 0 Axes>"
      ]
     },
     "metadata": {},
     "output_type": "display_data"
    },
    {
     "data": {
      "image/png": "[encoded data removed]",
      "text/plain": [
       "<Figure size 640x480 with 1 Axes>"
      ]
     },
     "metadata": {},
     "output_type": "display_data"
    }
   ],
   "source": [
    "import matplotlib.pyplot as plt\n",
    "\n",
    "filePath= input(\"enter file path: \")\n",
    "df=pd.read_csv(filePath)\n",
    "\n",
    "salesData = df.groupby(['date','Product'])['sales'].sum().unstack()\n",
    "plt.figure(figsize = (10,8))\n",
    "salesData.plot(kind = 'bar',stacked = True)\n",
    "plt.xlabel(\"data\")\n",
    "plt.ylabel(\"sales\")\n",
    "plt.xticks(rotation=45)\n",
    "plt.legend(title='Product Category', bbox_to_anchor=(1.05, 1), loc='upper left')\n",
    "plt.tight_layout()\n",
    "plt.show()"
   ]
  },
  {
   "cell_type": "code",
   "execution_count": 54,
   "id": "e1cbb98b",
   "metadata": {},
   "outputs": [
    {
     "name": "stdout",
     "output_type": "stream",
     "text": [
      "enter file pathC:\\Users\\sumit\\jupiter\\pw assignment\\student marks.csv\n",
      "  statictics  value\n",
      "0       mean   83.6\n",
      "1     median   85.0\n",
      "2       mode   85.0\n"
     ]
    }
   ],
   "source": [
    "import pandas as pd\n",
    "from scipy import stats\n",
    "student_id = [1,2,3,4,5,6,7,8,9,10]\n",
    "student_score = [85,90,80,75,85,83,78,85,90,85]\n",
    "import warnings\n",
    "warnings.filterwarnings('ignore')\n",
    "data = {\n",
    "    'student_id': student_id,\n",
    "    'student_score': student_score\n",
    "}\n",
    "\n",
    "df_3 =pd.DataFrame(data)\n",
    "df_3.to_csv('student marks.csv', index=False)\n",
    "filePath=input('enter file path')\n",
    "\n",
    "df_3 = pd.read_csv(filePath)\n",
    "\n",
    "median = df_3['student_score'].median()\n",
    "mean =  df_3['student_score'].mean()\n",
    "mode = stats.mode(df_3['student_score'])[0][0]\n",
    "\n",
    "result= pd.DataFrame({\n",
    "    'statictics': [\"mean\",\"median\",\"mode\"],\n",
    "    \"value\": [mean,median,mode]\n",
    "})\n",
    "\n",
    "print(result)"
   ]
  },
  {
   "cell_type": "code",
   "execution_count": null,
   "id": "099458ae",
   "metadata": {},
   "outputs": [],
   "source": []
  }
 ],
 "metadata": {
  "kernelspec": {
   "display_name": "Python 3 (ipykernel)",
   "language": "python",
   "name": "python3"
  },
  "language_info": {
   "codemirror_mode": {
    "name": "ipython",
    "version": 3
   },
   "file_extension": ".py",
   "mimetype": "text/x-python",
   "name": "python",
   "nbconvert_exporter": "python",
   "pygments_lexer": "ipython3",
   "version": "3.11.4"
  }
 },
 "nbformat": 4,
 "nbformat_minor": 5
}
